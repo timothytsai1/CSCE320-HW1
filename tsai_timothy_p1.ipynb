{
 "cells": [
  {
   "cell_type": "code",
   "execution_count": null,
   "id": "2fd827de",
   "metadata": {
    "scrolled": true
   },
   "outputs": [
    {
     "name": "stdout",
     "output_type": "stream",
     "text": [
      "Requirement already satisfied: pandas in c:\\users\\timot\\anaconda3\\lib\\site-packages (1.4.2)\n",
      "Requirement already satisfied: python-dateutil>=2.8.1 in c:\\users\\timot\\anaconda3\\lib\\site-packages (from pandas) (2.8.2)\n",
      "Requirement already satisfied: numpy>=1.18.5 in c:\\users\\timot\\anaconda3\\lib\\site-packages (from pandas) (1.21.5)\n",
      "Requirement already satisfied: pytz>=2020.1 in c:\\users\\timot\\anaconda3\\lib\\site-packages (from pandas) (2023.3.post1)\n",
      "Requirement already satisfied: six>=1.5 in c:\\users\\timot\\anaconda3\\lib\\site-packages (from python-dateutil>=2.8.1->pandas) (1.16.0)\n",
      "Requirement already satisfied: numpy in c:\\users\\timot\\anaconda3\\lib\\site-packages (1.21.5)\n",
      "Requirement already satisfied: matplotlib in c:\\users\\timot\\anaconda3\\lib\\site-packages (3.5.1)\n",
      "Requirement already satisfied: numpy>=1.17 in c:\\users\\timot\\anaconda3\\lib\\site-packages (from matplotlib) (1.21.5)\n",
      "Requirement already satisfied: packaging>=20.0 in c:\\users\\timot\\anaconda3\\lib\\site-packages (from matplotlib) (21.3)\n",
      "Requirement already satisfied: python-dateutil>=2.7 in c:\\users\\timot\\anaconda3\\lib\\site-packages (from matplotlib) (2.8.2)\n",
      "Requirement already satisfied: kiwisolver>=1.0.1 in c:\\users\\timot\\anaconda3\\lib\\site-packages (from matplotlib) (1.3.2)\n",
      "Requirement already satisfied: fonttools>=4.22.0 in c:\\users\\timot\\anaconda3\\lib\\site-packages (from matplotlib) (4.25.0)\n",
      "Requirement already satisfied: pillow>=6.2.0 in c:\\users\\timot\\anaconda3\\lib\\site-packages (from matplotlib) (10.4.0)\n",
      "Requirement already satisfied: pyparsing>=2.2.1 in c:\\users\\timot\\anaconda3\\lib\\site-packages (from matplotlib) (3.0.4)\n",
      "Requirement already satisfied: cycler>=0.10 in c:\\users\\timot\\anaconda3\\lib\\site-packages (from matplotlib) (0.11.0)\n",
      "Requirement already satisfied: six>=1.5 in c:\\users\\timot\\anaconda3\\lib\\site-packages (from python-dateutil>=2.7->matplotlib) (1.16.0)\n"
     ]
    }
   ],
   "source": [
    "!pip install pandas\n",
    "!pip install numpy \n",
    "!pip install matplotlib\n",
    "!pip install seaborn"
   ]
  },
  {
   "cell_type": "code",
   "execution_count": null,
   "id": "64e35182",
   "metadata": {},
   "outputs": [],
   "source": [
    "import seaborn as sns\n",
    "import pandas as pd\n",
    "import numpy as np\n",
    "import matplotlib.pyplot as plt"
   ]
  },
  {
   "cell_type": "code",
   "execution_count": null,
   "id": "49feda9c",
   "metadata": {
    "scrolled": true
   },
   "outputs": [],
   "source": [
    "df = pd.read_csv(\"Top_1000_IMDb_movies_New_version.csv\", index_col=0 )"
   ]
  },
  {
   "cell_type": "markdown",
   "id": "ee381a38",
   "metadata": {},
   "source": [
    "## Fixing column types and dropping Nan Values "
   ]
  },
  {
   "cell_type": "code",
   "execution_count": null,
   "id": "660925e6",
   "metadata": {},
   "outputs": [],
   "source": [
    "df['Votes'] = df['Votes'].str.replace(',', '').astype(float)\n",
    "df['Votes'] = df['Votes'].astype(int)\n"
   ]
  },
  {
   "cell_type": "code",
   "execution_count": null,
   "id": "bf4a7640",
   "metadata": {},
   "outputs": [],
   "source": [
    "convert = ['Year of Release', 'Gross']\n",
    "df[convert] = df[convert].apply(pd.to_numeric, errors='coerce')"
   ]
  },
  {
   "cell_type": "code",
   "execution_count": null,
   "id": "c273d277",
   "metadata": {},
   "outputs": [],
   "source": [
    "#drop entrees with Nan or Null values\n",
    "df = df.dropna()\n",
    "df.info()"
   ]
  },
  {
   "cell_type": "markdown",
   "id": "d643dcb6",
   "metadata": {},
   "source": [
    "## Creating a correlogram of the different variables in dataset"
   ]
  },
  {
   "cell_type": "code",
   "execution_count": null,
   "id": "a56575e1",
   "metadata": {},
   "outputs": [],
   "source": [
    "correlation_matrix = df.corr()\n",
    "sns.heatmap(correlation_matrix, annot=True, cmap='coolwarm')\n",
    "plt.show()"
   ]
  },
  {
   "cell_type": "code",
   "execution_count": null,
   "id": "3f92daca",
   "metadata": {},
   "outputs": [],
   "source": [
    "x = df['Year of Release']\n",
    "y = df['Metascore of movie']\n",
    "\n",
    "df_avg_metascore = df.groupby('Year of Release')['Metascore of movie'].mean().reset_index()\n",
    "\n",
    "plt.figure(figsize=(12, 6))\n",
    "\n",
    "min_metascore_year = df_avg_metascore.loc[df_avg_metascore['Metascore of movie'].idxmin()]\n",
    "\n",
    "plt.annotate(\n",
    "    f\"Worse Performing Year {int(min_metascore_year['Year of Release'])}\\n\"\n",
    "    f\"Avg Metascore: {min_metascore_year['Metascore of movie']:.2f}\",\n",
    "    xy=(min_metascore_year['Year of Release'], min_metascore_year['Metascore of movie']),\n",
    "    xytext=(min_metascore_year['Year of Release']+5, min_metascore_year['Metascore of movie']),  \n",
    "    arrowprops=dict(facecolor='black', shrink=0.05),  \n",
    ")\n",
    "\n",
    "plt.plot(df_avg_metascore['Year of Release'], df_avg_metascore['Metascore of movie'])\n",
    "sns.regplot(x=x, y=y, color='red', scatter=False)\n",
    "plt.title('Time Series of Year of Release vs Average Metascore')\n",
    "plt.xlabel('Year of Release')\n",
    "plt.ylabel('Average Metascore')\n",
    "\n",
    "plt.show()\n",
    "plt.savefig('time_series.svg')"
   ]
  },
  {
   "cell_type": "code",
   "execution_count": null,
   "id": "3a49bc7f",
   "metadata": {},
   "outputs": [],
   "source": [
    "numerical_columns = ['Year of Release', 'Watch Time', 'Movie Rating', 'Metascore of movie', 'Gross', 'Votes']\n",
    "\n",
    "plt.figure(figsize=(20, 6))\n",
    "\n",
    "# Create subplots for each numerical column\n",
    "for i, col in enumerate(numerical_columns):\n",
    "    plt.subplot(1, len(numerical_columns), i + 1)\n",
    "    sns.histplot(df[col], kde=True, color='green') \n",
    "    plt.grid(True, linestyle='none', alpha=0.6)\n",
    "    plt.xlabel(col)\n",
    "    plt.ylabel('Frequency') \n",
    "\n",
    "plt.suptitle('Numerical Column Distributions', y=1.05)  \n",
    "\n",
    "plt.tight_layout() \n",
    "plt.show()\n",
    "plt.savefig('numerical_distributions.svg')"
   ]
  },
  {
   "cell_type": "code",
   "execution_count": null,
   "id": "d1a0df42",
   "metadata": {},
   "outputs": [],
   "source": []
  },
  {
   "cell_type": "code",
   "execution_count": null,
   "id": "52334ebb",
   "metadata": {},
   "outputs": [],
   "source": []
  }
 ],
 "metadata": {
  "kernelspec": {
   "display_name": "Python 3 (ipykernel)",
   "language": "python",
   "name": "python3"
  },
  "language_info": {
   "codemirror_mode": {
    "name": "ipython",
    "version": 3
   },
   "file_extension": ".py",
   "mimetype": "text/x-python",
   "name": "python",
   "nbconvert_exporter": "python",
   "pygments_lexer": "ipython3",
   "version": "3.9.12"
  }
 },
 "nbformat": 4,
 "nbformat_minor": 5
}
